{
 "cells": [
  {
   "cell_type": "markdown",
   "id": "74498273",
   "metadata": {},
   "source": [
    "## Load package"
   ]
  },
  {
   "cell_type": "code",
   "execution_count": 1,
   "id": "3e77b4f6",
   "metadata": {},
   "outputs": [],
   "source": [
    "from logging import exception\n",
    "import os\n",
    "from platform import architecture\n",
    "os.environ['KMP_DUPLICATE_LIB_OK']='True'\n",
    "import numpy as np\n",
    "import torch\n",
    "import torch.nn as nn\n",
    "import torch.nn.functional as F\n",
    "from torch_geometric.data import Data\n",
    "import torch_geometric.nn as geom_nn\n",
    "from torch_geometric.nn import GCNConv\n",
    "import networkx as nx\n",
    "# import feature_embedding\n",
    "# import PDB2Graph\n",
    "import GNN_core\n",
    "import argparse\n",
    "import random\n",
    "from os.path import exists\n",
    "from multiprocessing import Pool\n",
    "import multiprocessing\n",
    "import torch.optim as optim\n",
    "import copy\n",
    "from sklearn.metrics import confusion_matrix, roc_curve, auc, ConfusionMatrixDisplay\n",
    "import matplotlib.pyplot as plt\n",
    "\n",
    "import os\n",
    "import glob"
   ]
  },
  {
   "cell_type": "markdown",
   "id": "3df55888",
   "metadata": {},
   "source": [
    "## Set training parameters and load graph"
   ]
  },
  {
   "cell_type": "code",
   "execution_count": 2,
   "id": "f9f3a28c",
   "metadata": {},
   "outputs": [
    {
     "name": "stdout",
     "output_type": "stream",
     "text": [
      "Total graph: 314\n",
      "\n",
      "Data(x=[377, 8], edge_index=[2, 1037], y=1)\n",
      "Number of nodes: 377\n",
      "Number of edges: 1037\n",
      "Average node degree: 2.75\n",
      "Current nx path:./new_data_base/all_graph_PDB_MinMax/5GU6.nx\n"
     ]
    }
   ],
   "source": [
    "# set parameters\n",
    "lr = 0.01\n",
    "n_epochs = 100 \n",
    "patience = n_epochs\n",
    "ratio = [0.6, 0.2, 0.2]\n",
    "batch_size = 40\n",
    "hidden_channels = 12\n",
    "\n",
    "# load graph\n",
    "all_graph_path = './new_data_base/all_graph_PDB_MinMax/'\n",
    "nx_files = glob.glob(os.path.join(all_graph_path, '*.nx'))\n",
    "print('Total graph:',len(nx_files))\n",
    "\n",
    "graph_dataset = [];\n",
    "for i, tmp_path in enumerate(nx_files):\n",
    "    loaded_data = torch.load(tmp_path)\n",
    "    graph_dataset.append(loaded_data)\n",
    "\n",
    "# print out one graph info for checking\n",
    "idx_eg = 3\n",
    "data = graph_dataset[idx_eg]\n",
    "# print(graph_dataset[1].edge_attr)\n",
    "print()\n",
    "print(data)\n",
    "print(f'Number of nodes: {data.num_nodes}')\n",
    "print(f'Number of edges: {data.num_edges}')\n",
    "print(f'Average node degree: {data.num_edges / data.num_nodes:.2f}')\n",
    "print('Current nx path:{}'.format(nx_files[idx_eg]))"
   ]
  },
  {
   "cell_type": "markdown",
   "id": "1c71ae28",
   "metadata": {},
   "source": [
    "## Balance the data and set train/val/test set"
   ]
  },
  {
   "cell_type": "code",
   "execution_count": 3,
   "id": "735e3bae",
   "metadata": {
    "scrolled": false
   },
   "outputs": [
    {
     "name": "stdout",
     "output_type": "stream",
     "text": [
      "____\n",
      "Before balance\n",
      "length graph_dataset 314\n",
      "#Label1 and ration: tensor(121) tensor(0.3854)\n",
      "____\n",
      "____\n",
      "After balance\n",
      "length graph_dataset 251\n",
      "#Label1 and ration: tensor(121) tensor(0.4821)\n",
      "In this dataset, there are 130 inputs labeled \"0\" and 121 inputs labeled \"1\".\n",
      "____\n",
      "Number of training graphs: 150\n",
      "Number of test graphs: 50\n",
      "Number of val graphs: 51\n",
      "____\n",
      "Length test_dataset 50\n",
      "#Label1 and ration: tensor(22) tensor(0.4400)\n",
      "In this dataset, there are 28 inputs labeled \"0\" and 22 inputs labeled \"1\".\n",
      "____\n",
      "Data info for checking randomness:\n",
      "0 Data(x=[712, 8], edge_index=[2, 1754], y=1)\n",
      "1 Data(x=[1092, 8], edge_index=[2, 3000], y=1)\n",
      "2 Data(x=[5045, 8], edge_index=[2, 12994], y=1)\n",
      "3 Data(x=[207, 8], edge_index=[2, 526], y=1)\n",
      "4 Data(x=[206, 8], edge_index=[2, 1710], y=0)\n",
      "5 Data(x=[711, 8], edge_index=[2, 2971], y=1)\n",
      "6 Data(x=[307, 8], edge_index=[2, 835], y=1)\n",
      "7 Data(x=[799, 8], edge_index=[2, 2315], y=0)\n",
      "8 Data(x=[5205, 8], edge_index=[2, 14460], y=1)\n",
      "9 Data(x=[1833, 8], edge_index=[2, 4979], y=1)\n",
      "10 Data(x=[2727, 8], edge_index=[2, 12407], y=1)\n",
      "11 Data(x=[596, 8], edge_index=[2, 1780], y=0)\n",
      "12 Data(x=[793, 8], edge_index=[2, 2083], y=0)\n",
      "13 Data(x=[8518, 8], edge_index=[2, 22841], y=0)\n",
      "14 Data(x=[427, 8], edge_index=[2, 994], y=1)\n",
      "15 Data(x=[418, 8], edge_index=[2, 1101], y=0)\n",
      "16 Data(x=[2537, 8], edge_index=[2, 6229], y=1)\n",
      "17 Data(x=[368, 8], edge_index=[2, 1683], y=1)\n",
      "18 Data(x=[399, 8], edge_index=[2, 1172], y=0)\n",
      "19 Data(x=[426, 8], edge_index=[2, 2062], y=0)\n",
      "20 Data(x=[129, 8], edge_index=[2, 317], y=0)\n",
      "21 Data(x=[1014, 8], edge_index=[2, 2583], y=1)\n",
      "22 Data(x=[72, 8], edge_index=[2, 175], y=1)\n",
      "23 Data(x=[259, 8], edge_index=[2, 617], y=0)\n",
      "24 Data(x=[852, 8], edge_index=[2, 2326], y=0)\n",
      "25 Data(x=[328, 8], edge_index=[2, 871], y=0)\n",
      "26 Data(x=[332, 8], edge_index=[2, 961], y=1)\n",
      "27 Data(x=[740, 8], edge_index=[2, 1852], y=1)\n",
      "28 Data(x=[852, 8], edge_index=[2, 2268], y=1)\n",
      "29 Data(x=[800, 8], edge_index=[2, 2329], y=0)\n",
      "30 Data(x=[336, 8], edge_index=[2, 858], y=1)\n",
      "31 Data(x=[361, 8], edge_index=[2, 989], y=1)\n",
      "32 Data(x=[972, 8], edge_index=[2, 4443], y=1)\n",
      "33 Data(x=[764, 8], edge_index=[2, 2133], y=0)\n",
      "34 Data(x=[1011, 8], edge_index=[2, 2782], y=0)\n",
      "35 Data(x=[354, 8], edge_index=[2, 1016], y=1)\n",
      "36 Data(x=[1431, 8], edge_index=[2, 3916], y=0)\n",
      "37 Data(x=[457, 8], edge_index=[2, 1284], y=1)\n",
      "38 Data(x=[517, 8], edge_index=[2, 1508], y=0)\n",
      "39 Data(x=[162, 8], edge_index=[2, 396], y=0)\n",
      "40 Data(x=[1450, 8], edge_index=[2, 3631], y=0)\n",
      "41 Data(x=[430, 8], edge_index=[2, 1149], y=0)\n",
      "42 Data(x=[7837, 8], edge_index=[2, 21337], y=0)\n",
      "43 Data(x=[5230, 8], edge_index=[2, 14402], y=0)\n",
      "44 Data(x=[351, 8], edge_index=[2, 979], y=1)\n",
      "45 Data(x=[3908, 8], edge_index=[2, 8931], y=0)\n",
      "46 Data(x=[1552, 8], edge_index=[2, 4304], y=0)\n",
      "47 Data(x=[5160, 8], edge_index=[2, 13927], y=1)\n",
      "48 Data(x=[1388, 8], edge_index=[2, 3764], y=0)\n",
      "49 Data(x=[1085, 8], edge_index=[2, 2918], y=0)\n",
      "50 Data(x=[328, 8], edge_index=[2, 921], y=1)\n"
     ]
    }
   ],
   "source": [
    "# balance the data\n",
    "random.seed(666)\n",
    "\n",
    "print('____')\n",
    "print('Before balance')\n",
    "print('length graph_dataset',len(graph_dataset))\n",
    "sum_i = 0\n",
    "for i in graph_dataset:\n",
    "    sum_i = sum_i + i.y\n",
    "\n",
    "print('#Label1 and ration:',sum_i,sum_i/len(graph_dataset))\n",
    "print('____')\n",
    "\n",
    "### train test partition\n",
    "graph_dataset=GNN_core.balance_dataset(graph_dataset)\n",
    "print('____')\n",
    "print('After balance')\n",
    "print('length graph_dataset',len(graph_dataset))\n",
    "sum_i = 0\n",
    "for i in graph_dataset:\n",
    "    sum_i = sum_i + i.y\n",
    "\n",
    "print('#Label1 and ration:',sum_i,sum_i/len(graph_dataset))\n",
    "GNN_core.get_info_dataset(graph_dataset,verbose=True)\n",
    "print('____')\n",
    "\n",
    "#train_test_partition=int(partition_ratio*len(graph_dataset))\n",
    "assert(ratio[0]+ratio[1]+ratio[2]==1)\n",
    "part1 = int(len(graph_dataset)*ratio[0])\n",
    "part2 = part1 + int(len(graph_dataset)*ratio[1])\n",
    "part3 = part2 + int(len(graph_dataset)*ratio[2])\n",
    "\n",
    "train_dataset = graph_dataset[:part1]\n",
    "test_dataset = graph_dataset[part1:part2]\n",
    "val_dataset = graph_dataset[part2:]\n",
    "\n",
    "print(f'Number of training graphs: {len(train_dataset)}')\n",
    "print(f'Number of test graphs: {len(test_dataset)}')\n",
    "print(f'Number of val graphs: {len(val_dataset)}')\n",
    "\n",
    "print('____')\n",
    "print('Length test_dataset',len(test_dataset))\n",
    "sum_i = 0\n",
    "for i in test_dataset:\n",
    "    sum_i = sum_i + i.y\n",
    "\n",
    "print('#Label1 and ration:',sum_i,sum_i/len(test_dataset))\n",
    "GNN_core.get_info_dataset(test_dataset,verbose=True)\n",
    "print('____')\n",
    "print('Data info for checking randomness:')\n",
    "for i, data in enumerate(val_dataset):\n",
    "    print(i, data)\n",
    "#     if i == 10:\n",
    "#         break"
   ]
  },
  {
   "cell_type": "markdown",
   "id": "64070352",
   "metadata": {},
   "source": [
    "## Load best model"
   ]
  },
  {
   "cell_type": "code",
   "execution_count": 6,
   "id": "29038b3d",
   "metadata": {},
   "outputs": [
    {
     "name": "stdout",
     "output_type": "stream",
     "text": [
      "cpu\n"
     ]
    },
    {
     "data": {
      "text/plain": [
       "GAT_jz(\n",
       "  (linear): Linear(in_features=8, out_features=8, bias=True)\n",
       "  (bn0): BatchNorm1d(8, eps=1e-05, momentum=0.1, affine=True, track_running_stats=True)\n",
       "  (conv1): GATConv(8, 12, heads=1)\n",
       "  (bn1): BatchNorm1d(12, eps=1e-05, momentum=0.1, affine=True, track_running_stats=True)\n",
       "  (conv2): GATConv(12, 12, heads=1)\n",
       "  (bn2): BatchNorm1d(12, eps=1e-05, momentum=0.1, affine=True, track_running_stats=True)\n",
       "  (conv3): GATConv(12, 12, heads=1)\n",
       "  (bn3): BatchNorm1d(12, eps=1e-05, momentum=0.1, affine=True, track_running_stats=True)\n",
       "  (conv): ModuleList()\n",
       "  (bn): ModuleList()\n",
       "  (lin): Linear(in_features=12, out_features=2, bias=True)\n",
       ")"
      ]
     },
     "execution_count": 6,
     "metadata": {},
     "output_type": "execute_result"
    }
   ],
   "source": [
    "import GNN_core\n",
    "\n",
    "from importlib import reload\n",
    "reload(GNN_core)\n",
    "# load model\n",
    "device = torch.device(\"cpu\")\n",
    "# device = torch.device(\"cuda\" if torch.cuda.is_available() else \"cpu\")\n",
    "print(device)\n",
    "\n",
    "num_node_features=len(graph_dataset[0].x[0])\n",
    "num_classes=2\n",
    "\n",
    "arch = 'GAT_jz'\n",
    "num_layers = 0\n",
    "if arch == 'GCN':\n",
    "    best_model = GNN_core.GCN(hidden_channels,num_node_features=num_node_features,num_classes=num_classes,num_layers=num_layers)\n",
    "if arch == 'GNN':\n",
    "    best_model = GNN_core.GNN(hidden_channels,num_node_features=num_node_features,num_classes=num_classes,num_layers=num_layers)\n",
    "if arch == 'GTN':\n",
    "    best_model = GNN_core.GTN(hidden_channels,num_node_features=num_node_features,num_classes=num_classes,num_layers=num_layers)\n",
    "if arch == 'GAT_jz':\n",
    "    heads = 1\n",
    "    best_model = GNN_core.GAT_jz(hidden_channels,num_node_features=num_node_features,\n",
    "                            num_classes=num_classes,num_layers=num_layers,heads=heads)\n",
    "    \n",
    "\n",
    "save_path = os.path.join('.','model','{}_best_model.pth'.format(arch))\n",
    "best_model.load_state_dict(torch.load(save_path))\n",
    "best_model.to(device)\n",
    "best_model.eval()"
   ]
  },
  {
   "cell_type": "markdown",
   "id": "a8148e5b",
   "metadata": {},
   "source": [
    "## Import package and inference dataloader"
   ]
  },
  {
   "cell_type": "code",
   "execution_count": 7,
   "id": "c3b49349",
   "metadata": {},
   "outputs": [
    {
     "name": "stdout",
     "output_type": "stream",
     "text": [
      "0 DataBatch(x=[712, 8], edge_index=[2, 1754], y=[1], batch=[712], ptr=[2])\n",
      "Number of nodes: 712\n",
      "Number of edges: 1754\n",
      "Average node degree: 2.46\n",
      "1 DataBatch(x=[1092, 8], edge_index=[2, 3000], y=[1], batch=[1092], ptr=[2])\n",
      "Number of nodes: 1092\n",
      "Number of edges: 3000\n",
      "Average node degree: 2.75\n",
      "2 DataBatch(x=[5045, 8], edge_index=[2, 12994], y=[1], batch=[5045], ptr=[2])\n",
      "Number of nodes: 5045\n",
      "Number of edges: 12994\n",
      "Average node degree: 2.58\n"
     ]
    }
   ],
   "source": [
    "from torch_geometric.loader import DataLoader\n",
    "\n",
    "ex_loader = DataLoader(val_dataset[:], batch_size=1, shuffle=False)\n",
    "for i, data in enumerate(ex_loader):\n",
    "    print(i,data)\n",
    "    print(f'Number of nodes: {data.num_nodes}')\n",
    "    print(f'Number of edges: {data.num_edges}')\n",
    "    print(f'Average node degree: {data.num_edges / data.num_nodes:.2f}')\n",
    "    if i==2:\n",
    "        break"
   ]
  },
  {
   "cell_type": "code",
   "execution_count": 8,
   "id": "bb349650",
   "metadata": {},
   "outputs": [
    {
     "name": "stdout",
     "output_type": "stream",
     "text": [
      "(6, 2)\n",
      "{0: array([1.16666667, 1.46666667]), 1: array([7.33333333, 9.        ])}\n"
     ]
    },
    {
     "data": {
      "image/png": "[encoded data removed]",
      "text/plain": [
       "<Figure size 432x288 with 1 Axes>"
      ]
     },
     "metadata": {
      "needs_background": "light"
     },
     "output_type": "display_data"
    }
   ],
   "source": [
    "class K_Means(object):\n",
    "    def __init__(self, k=2, tolerance=0.0001, max_iter=300):\n",
    "        self.k_ = k\n",
    "        self.tolerance_ = tolerance\n",
    "        self.max_iter_ = max_iter\n",
    "\n",
    "    def fit(self, data):\n",
    "        self.centers_ = {}\n",
    "        for i in range(self.k_):\n",
    "            self.centers_[i] = data[i]\n",
    "\n",
    "        for i in range(self.max_iter_):\n",
    "            self.clf_ = {}\n",
    "            self.clfindex_ = {}\n",
    "            for i in range(self.k_):\n",
    "                self.clf_[i] = []\n",
    "                self.clfindex_[i] = []\n",
    "            # print(\"centers:\",self.centers_)\n",
    "            for idx, feature in enumerate(data):\n",
    "                # distances = [np.linalg.norm(feature-self.centers[center]) for center in self.centers]\n",
    "                distances = []\n",
    "                for center in self.centers_:\n",
    "                    # eular distance\n",
    "                    # np.sqrt(np.sum((features-self.centers_[center])**2))\n",
    "                    distances.append(np.linalg.norm(feature - self.centers_[center]))\n",
    "                classification = distances.index(min(distances))\n",
    "                self.clf_[classification].append(feature)\n",
    "                self.clfindex_[classification].append(idx)\n",
    "\n",
    "            # print(\"cluster:\",self.clf_)\n",
    "            prev_centers = dict(self.centers_)\n",
    "            for c in self.clf_:\n",
    "                self.centers_[c] = np.average(self.clf_[c], axis=0)\n",
    "\n",
    "            # center in tolerance\n",
    "            optimized = True\n",
    "            for center in self.centers_:\n",
    "                org_centers = prev_centers[center]\n",
    "                cur_centers = self.centers_[center]\n",
    "                if np.sum((cur_centers - org_centers) / org_centers * 100.0) > self.tolerance_:\n",
    "                    optimized = False\n",
    "            if optimized:\n",
    "                break\n",
    "\n",
    "    def predict(self, p_data):\n",
    "        distances = [np.linalg.norm(p_data - self.centers_[center]) for center in self.centers_]\n",
    "        index = distances.index(min(distances))\n",
    "        return index\n",
    "\n",
    "\n",
    "if __name__ == '__main__':\n",
    "    x = np.array([[1, 2], [1.5, 1.8], [5, 8], [8, 8], [1, 0.6], [9, 11]])\n",
    "    print(x.shape)\n",
    "    k_means = K_Means(k=2, max_iter=100)\n",
    "    k_means.fit(x)\n",
    "    print(k_means.centers_)\n",
    "    for center in k_means.centers_:\n",
    "        plt.scatter(k_means.centers_[center][0], k_means.centers_[center][1], marker='*', s=150)\n",
    "\n",
    "    for cat in k_means.clf_:\n",
    "        for point in k_means.clf_[cat]:\n",
    "            plt.scatter(point[0], point[1], c=('r' if cat == 0 else 'b'))\n",
    "\n",
    "#     predict = [[2, 1], [6, 9]]\n",
    "#     for feature in predict:\n",
    "#         cat = k_means.predict(predict)\n",
    "#         plt.scatter(feature[0], feature[1], c=('r' if cat == 0 else 'b'), marker='x')\n",
    "\n",
    "    plt.show()"
   ]
  },
  {
   "cell_type": "code",
   "execution_count": 9,
   "id": "8a360257",
   "metadata": {},
   "outputs": [
    {
     "name": "stdout",
     "output_type": "stream",
     "text": [
      "{0: [array([1., 2.]), array([1.5, 1.8]), array([1. , 0.6])], 1: [array([5., 8.]), array([8., 8.]), array([ 9., 11.])]}\n",
      "{0: [0, 1, 4], 1: [2, 3, 5]}\n"
     ]
    }
   ],
   "source": [
    "print(k_means.clf_)\n",
    "print(k_means.clfindex_)"
   ]
  },
  {
   "cell_type": "markdown",
   "id": "5cbc09e4",
   "metadata": {},
   "source": [
    "## clustering and inference on entire dataset"
   ]
  },
  {
   "cell_type": "code",
   "execution_count": 108,
   "id": "0a08dd46",
   "metadata": {
    "scrolled": false
   },
   "outputs": [
    {
     "name": "stdout",
     "output_type": "stream",
     "text": [
      "\n",
      "Current ID: 4\n",
      "DataBatch(x=[206, 8], edge_index=[2, 1710], y=[1], batch=[206], ptr=[2])\n",
      "Number of nodes: 206\n",
      "Number of edges: 1710\n",
      "Average node degree: 8.30\n",
      "Labels: tensor([0])\n",
      "Batch: torch.Size([206])\n",
      "Whole graph output tensor([[ 1.3091, -1.3714]], grad_fn=<AddmmBackward0>) and pred tensor([0])\n",
      "\n",
      "Current k-means cluster sub-graph: 0\n"
     ]
    },
    {
     "name": "stderr",
     "output_type": "stream",
     "text": [
      "/tmp/ipykernel_63413/56518136.py:40: RuntimeWarning: invalid value encountered in divide\n",
      "  if np.sum((cur_centers - org_centers) / org_centers * 100.0) > self.tolerance_:\n",
      "/tmp/ipykernel_63413/56518136.py:40: RuntimeWarning: divide by zero encountered in divide\n",
      "  if np.sum((cur_centers - org_centers) / org_centers * 100.0) > self.tolerance_:\n"
     ]
    },
    {
     "name": "stdout",
     "output_type": "stream",
     "text": [
      "Number of nodes of k-means cluster 1: 82\n",
      "Shape of edge of k-means cluster 1: torch.Size([2, 545])\n",
      "Shape of edge index of k-means cluster 1: torch.Size([2, 545])\n",
      "Current output tensor([[ 7.7820, -7.4980]], grad_fn=<AddmmBackward0>) and pred tensor([0])\n",
      "\n",
      "Current k-means cluster sub-graph: 1\n",
      "Number of nodes of k-means cluster 2: 124\n",
      "Shape of edge of k-means cluster 2: torch.Size([2, 815])\n",
      "Shape of edge index of k-means cluster 2: torch.Size([2, 815])\n",
      "Current output tensor([[-14.5553,  13.9640]], grad_fn=<AddmmBackward0>) and pred tensor([1])\n"
     ]
    }
   ],
   "source": [
    "for i, data in enumerate(ex_loader):\n",
    "    if i != 4:\n",
    "        continue\n",
    "#     if data.x.shape[0] > 500:\n",
    "#         continue\n",
    "        \n",
    "    print('\\nCurrent ID:',i)\n",
    "    print(data)\n",
    "    print(f'Number of nodes: {data.num_nodes}')\n",
    "    print(f'Number of edges: {data.num_edges}')\n",
    "    print(f'Average node degree: {data.num_edges / data.num_nodes:.2f}')\n",
    "    print('Labels:',data.y)\n",
    "    print('Batch:',data.batch.shape)\n",
    "    \n",
    "    x, edge_index = data.x, data.edge_index\n",
    "    out = best_model(x, edge_index, data.batch)  \n",
    "    pred = out.argmax(dim=1)\n",
    "    print('Whole graph output {} and pred {}'.format(out, pred))\n",
    "    \n",
    "    \n",
    "    x = x.float().numpy()\n",
    "    k_means = K_Means(k=2, max_iter=1000)  ### Please fine tune ###\n",
    "    k_means.fit(x)\n",
    "    \n",
    "    # find edge\n",
    "    total_edge_list = list()\n",
    "    total_edge_index_list = list()\n",
    "    for ki in k_means.clf_.keys():\n",
    "        print('\\nCurrent k-means cluster sub-graph:',ki)\n",
    "        ki_edge_list = list()\n",
    "        ki_edge_index_list = list()\n",
    "        current_cluster = k_means.clfindex_[ki]\n",
    "#         print(current_cluster)\n",
    "        for j in range(edge_index.shape[1]):\n",
    "            current_edge = edge_index[:,j]\n",
    "            result = all(elem in current_cluster for elem in current_edge)\n",
    "            if result==True:\n",
    "                ki_edge_index_list.append(current_edge)\n",
    "                \n",
    "                idx1 = current_cluster.index(current_edge[0])\n",
    "                idx2 = current_cluster.index(current_edge[1])\n",
    "                ki_edge_list.append(torch.tensor([idx1,idx2]))\n",
    "        \n",
    "        ki_edge = torch.transpose(torch.stack(ki_edge_list,dim=0), 0, 1).to(device)\n",
    "        print('Number of nodes of k-means cluster {}: {}'.format(ki+1, len(k_means.clfindex_[ki])))\n",
    "        print('Shape of edge of k-means cluster {}: {}'.format(ki+1, ki_edge.shape))\n",
    "        \n",
    "        ki_edge_index = torch.transpose(torch.stack(ki_edge_index_list,dim=0), 0, 1)\n",
    "        print('Shape of edge index of k-means cluster {}: {}'.format(ki+1, ki_edge_index.shape))\n",
    "#         print(ki_edge)\n",
    "#         print(torch.max(ki_edge))\n",
    "        \n",
    "        \n",
    "        ki_x = torch.from_numpy(np.asarray(k_means.clf_[ki])).to(device)\n",
    "        # define new data\n",
    "        ki_data = Data(x=ki_x, edge_index=ki_edge, y=data.y)\n",
    "        current_batch = torch.zeros(len(k_means.clfindex_[ki]))\n",
    "        current_batch = current_batch.to(torch.int64).to(device)\n",
    "        out = best_model(ki_data.x, ki_data.edge_index, current_batch)  \n",
    "        pred = out.argmax(dim=1)\n",
    "        \n",
    "    \n",
    "#         explanation = explainer(x=ki_data.x.to(device), \n",
    "#                                 edge_index=ki_data.edge_index.to(device), \n",
    "#                                 batch = current_batch.to(device)\n",
    "#                                )\n",
    "#         get_pre = explainer.get_prediction(x=ki_data.x, edge_index=ki_data.edge_index, batch=current_batch)\n",
    "#         get_pre_tar = explainer.get_target(get_pre)\n",
    "#         print(get_pre, get_pre_tar)\n",
    "        print('Current output {} and pred {}'.format(out, pred))\n",
    "        \n",
    "        # record all new cluster edge\n",
    "        total_edge_list.append(ki_edge)\n",
    "        total_edge_index_list.append(ki_edge_index)\n",
    "        del ki_data,current_batch#,ki_edge,ki_x\n",
    "    \n",
    "    if i == 0:\n",
    "        break"
   ]
  },
  {
   "cell_type": "code",
   "execution_count": 16,
   "id": "2e7d7c19",
   "metadata": {},
   "outputs": [],
   "source": [
    "from torch_geometric.data import Data\n",
    "from torch_geometric.explain import \\\n",
    "    Explainer, Explanation, GNNExplainer, CaptumExplainer, PGExplainer"
   ]
  },
  {
   "cell_type": "code",
   "execution_count": 109,
   "id": "3e9c7ae2",
   "metadata": {
    "scrolled": true
   },
   "outputs": [
    {
     "name": "stdout",
     "output_type": "stream",
     "text": [
      "\n",
      "Current ID: 4\n",
      "DataBatch(x=[206, 8], edge_index=[2, 1710], y=[1], batch=[206], ptr=[2])\n",
      "Number of nodes: 206\n",
      "Number of edges: 1710\n",
      "Average node degree: 8.30\n",
      "Labels: tensor([0])\n",
      "Batch: torch.Size([206])\n",
      "Explanation:\n",
      "Explanation(node_mask=[206, 8], edge_mask=[1710], prediction=[1, 2], target=[1], x=[206, 8], edge_index=[2, 1710], batch=[206])\n",
      "explanation target: tensor([0])\n",
      "\n",
      "Shape of edge index of k-means cluster 1: torch.Size([2, 545])\n"
     ]
    }
   ],
   "source": [
    "for i, data in enumerate(ex_loader):\n",
    "#     if data.x.shape[0] > 500:\n",
    "#         continue\n",
    "    if i != 4:\n",
    "        continue\n",
    "        \n",
    "    print('\\nCurrent ID:',i)\n",
    "    print(data)\n",
    "    print(f'Number of nodes: {data.num_nodes}')\n",
    "    print(f'Number of edges: {data.num_edges}')\n",
    "    print(f'Average node degree: {data.num_edges / data.num_nodes:.2f}')\n",
    "    print('Labels:',data.y)\n",
    "    print('Batch:',data.batch.shape)\n",
    "    \n",
    "    # GNNExplainer\n",
    "    explainer = Explainer(\n",
    "        model=best_model,\n",
    "        algorithm=GNNExplainer(epochs=300, lr=0.01), ### Please fine tune ###\n",
    "        explanation_type='model',\n",
    "        node_mask_type='attributes', # attributes\n",
    "        edge_mask_type='object',\n",
    "        model_config=dict(\n",
    "            mode='multiclass_classification',\n",
    "            task_level='graph',\n",
    "            return_type='raw',  # Model returns log probabilities.\n",
    "        ),\n",
    "        threshold_config=dict(\n",
    "            threshold_type='topk', #topk_hard\n",
    "            value=int(data.num_edges*0.5)\n",
    "        ) ### Please fine tune ###\n",
    "    )\n",
    "\n",
    "    explanation = explainer(x=data.x, \n",
    "                            edge_index=data.edge_index, \n",
    "                            batch = data.batch\n",
    "                           )\n",
    "    print('Explanation:')\n",
    "    print(explanation)\n",
    "    print('explanation target:',explanation.target)\n",
    "    \n",
    "    print('\\nShape of edge index of k-means cluster 1: {}'.format(total_edge_index_list[0].shape))\n",
    "    if i == 0:\n",
    "        break"
   ]
  },
  {
   "cell_type": "code",
   "execution_count": 110,
   "id": "dd74e110",
   "metadata": {
    "scrolled": false
   },
   "outputs": [
    {
     "name": "stdout",
     "output_type": "stream",
     "text": [
      "tensor(855)\n",
      "explainer edge: 855\n",
      "kmeans edge: 545\n",
      "intersection: 259\n",
      "union: 1141\n",
      "IoU: 0.22699386503067484\n"
     ]
    }
   ],
   "source": [
    "# explainer\n",
    "edge_mask_logic = explanation.edge_mask>0\n",
    "print(torch.sum(edge_mask_logic))\n",
    "\n",
    "masked_edge_l = list()\n",
    "for i, flag in enumerate(edge_mask_logic):\n",
    "    if flag==True:\n",
    "        tmp = explanation.edge_index[:,i].to(torch.int64)\n",
    "        tmp = tmp.numpy()\n",
    "        masked_edge_l.append([tmp[0], tmp[1]])\n",
    "        \n",
    "print('explainer edge:',len(masked_edge_l))\n",
    "\n",
    "# kmeans\n",
    "ki_edge = total_edge_index_list[0] # change according to sub-graph index size\n",
    "\n",
    "kmeans_edge_l = list()\n",
    "for i in range(ki_edge.shape[-1]):\n",
    "    tmp = ki_edge[:,i].to(torch.int64)\n",
    "    tmp = tmp.numpy()\n",
    "    kmeans_edge_l.append([tmp[0], tmp[1]])\n",
    "    \n",
    "print('kmeans edge:',len(kmeans_edge_l))\n",
    "\n",
    "# IoU\n",
    "intersection = [i for i in masked_edge_l if i in kmeans_edge_l]\n",
    "print('intersection:',len(intersection))\n",
    "\n",
    "union = kmeans_edge_l\n",
    "for tmp in masked_edge_l:\n",
    "    if tmp in union:\n",
    "        continue\n",
    "    else:\n",
    "        union.append(tmp)\n",
    "print('union:',len(union))\n",
    "\n",
    "IoU = len(intersection)/len(union)\n",
    "print('IoU:',IoU)"
   ]
  },
  {
   "cell_type": "markdown",
   "id": "d0df180c",
   "metadata": {},
   "source": [
    "## Data to plot\n",
    "### 1. Adjacency matrix"
   ]
  },
  {
   "cell_type": "code",
   "execution_count": 158,
   "id": "df41aa87",
   "metadata": {},
   "outputs": [
    {
     "name": "stdout",
     "output_type": "stream",
     "text": [
      "torch.Size([2, 835])\n",
      "torch.Size([1, 307, 307])\n"
     ]
    },
    {
     "data": {
      "image/png": "[encoded data removed]",
      "text/plain": [
       "<Figure size 576x576 with 2 Axes>"
      ]
     },
     "metadata": {
      "needs_background": "light"
     },
     "output_type": "display_data"
    },
    {
     "data": {
      "text/plain": [
       "tensor([[ 52,  53,  53,  53,  53,  54,  54,  54,  54,  54,  55,  55,  55,  55],\n",
       "        [ 53,  54,  11,  48,  55,  55,  96,  75,  79, 113,  56, 113,  75,  48]])"
      ]
     },
     "execution_count": 158,
     "metadata": {},
     "output_type": "execute_result"
    }
   ],
   "source": [
    "import torch\n",
    "from torch_geometric.utils import to_dense_adj\n",
    "import matplotlib.pyplot as plt\n",
    "\n",
    "graph_list = []\n",
    "for i, tmp_g in enumerate(val_dataset):\n",
    "    node = tmp_g.x\n",
    "    updated_data = Data(x=node[:,-3:], edge_index=tmp_g.edge_index, y=tmp_g.y)\n",
    "    graph_list.append(updated_data)\n",
    "\n",
    "graph_idx = 6 ############## index of graph to plot\n",
    "current_graph = graph_list[graph_idx]\n",
    "\n",
    "print(current_graph.edge_index.shape)\n",
    "\n",
    "adj_matrix = to_dense_adj(current_graph.edge_index)\n",
    "print(adj_matrix.shape)\n",
    "\n",
    "# a = adj_matrix[0,...]\n",
    "a = adj_matrix[0,:500,:500] \n",
    "fig = plt.figure(figsize=(8,8))\n",
    "# plt.xticks([])\n",
    "# plt.yticks([])\n",
    "plt.imshow(a)\n",
    "plt.colorbar()\n",
    "plt.show()\n",
    "\n",
    "current_graph.edge_index[:,:14]"
   ]
  }
 ],
 "metadata": {
  "kernelspec": {
   "display_name": "Python 3 (ipykernel)",
   "language": "python",
   "name": "python3"
  },
  "language_info": {
   "codemirror_mode": {
    "name": "ipython",
    "version": 3
   },
   "file_extension": ".py",
   "mimetype": "text/x-python",
   "name": "python",
   "nbconvert_exporter": "python",
   "pygments_lexer": "ipython3",
   "version": "3.9.16"
  }
 },
 "nbformat": 4,
 "nbformat_minor": 5
}
